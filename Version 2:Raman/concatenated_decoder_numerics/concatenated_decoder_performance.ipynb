{
 "cells": [
  {
   "cell_type": "markdown",
   "metadata": {},
   "source": [
    "We generate pseudo-observations according to the following model.\n",
    "\n",
    "$$ Y = MX + \\epsilon,$$\n",
    "\n",
    "where $X \\sim \\mathcal{N}(0,\\mathbb{I})$ is a proxy for 'neural activity', $Y$ are the 'observed variables' (1d), and $\\epsilon \\sim \\mathcal{N}(0,??)$ is a noise term that limits the predictive power of a linear model.\n",
    "\n",
    "Instead of directly setting the variance of $\\epsilon$, we set a desired r2 value, and the program works out the according variance.\n",
    "\n",
    "Note that $X$ is a (number of regressors*number_of_datapoints)-size matrix, while $Y$ is (1 x number_of_datapoints)\n",
    "\n",
    "\n",
    "We initialise $M$ as follows:\n",
    "\n",
    "    M = rand(inf.num_regressors)'\n",
    "\n",
    "\n",
    "On each day we update $M$ in a non-trivial way. Let $\\Delta M$ signify the inter day update. First note that\n",
    "$$ Y^d = (M + \\Delta M)X + \\epsilon^d. $$\n",
    "\n",
    "We want the variance of $Y$ on any given day to be constant (i.e. independent of day). We assume that the variance of $\\epsilon^d$ is constant over days. So we require\n",
    "\n",
    "$$ Var(M + \\Delta M)X = Var(MX) $$. Note that $X$ is mean zero so this equates to \n",
    "\n",
    "$$ \\mathbb{E}[ (M+\\Delta M)XX^T(M+\\Delta M)^T] = \\mathbb{E}[ MXX^TM^T].$$\n",
    "\n",
    "Since both $M$ and $\\Delta M$ are uncorrelated with $X$, this gives, in expectation\n",
    "\n",
    "$$ \\mathbb{E}[\\|(M+\\Delta M)\\|_2^2] = \\mathbb{E}[\\|M\\|_2^2.$$\n",
    "\n",
    "Therefore, $\\Delta M$ has to be anticorrelated with $M$. Specifically, we require\n",
    "$$ \\Delta M^TM = - \\frac{\\|\\Delta M\\|^2_2}{2}.$$\n",
    "\n",
    "\n",
    "\n",
    "Now we need to determine the magnitude of $\\Delta M$. By definition\n",
    "\n",
    "$$ 1 - \\mathcal{R}^2 = \\frac{Var(\\Delta MX + \\epsilon)}{Var(Y)}, $$\n",
    "\n",
    "where $MX$ is the predictor, and the numerator is the mean square error of $Y - predictor$. \n",
    "\n",
    "We can replace $Var(Y^d)$ with $Var(Y^{d-1})$ as the previous constraints on $\\Delta M$ have ensured this variance is constant over days.\n",
    "\n",
    "This gives \n",
    "\n",
    "$$ Var(\\Delta M X) \\approx (1-R^2)Var(Y^{d-1}) -  Var(\\epsilon) $$\n",
    "\n",
    "\n",
    "How do we relate $ Var(\\Delta M X) $ to $\\| \\Delta M \\|_2^2$ ? Well,\n",
    "\n",
    "$$  Var(\\Delta M X) = \\frac{1}{D} \\mathbb{E}[\\Delta M X X^T \\Delta M^T] $$\n",
    "\n",
    "$$  Var(\\Delta M X) \\approx \\frac{Tr(XX^T)}{rD}  \\| \\Delta M^T \\|_2^2 $$\n",
    "\n",
    "Overall,\n",
    "\n",
    "$$ \\| \\Delta M^T \\|_2^2 = \\frac{rD}{Tr(XX^T)}\\Big[ (1-R^2)Var(Y^{d-1}) -  Var(\\epsilon)   \\Big] $$\n",
    "\n",
    "\n",
    "\n",
    "So we have a quadratic and a linear constraint on $\\Delta M$, of the form\n",
    "$$ \\Delta M^T \\Delta M = K, $$\n",
    "$$ \\Delta M^TM = -\\frac{K}{2}, $$\n",
    "\n",
    "where $K$ is given above.\n",
    "\n",
    "We generate a Gaussian random $\\Delta M$ candidate, get the orthogonal and parallel components relative to $M$, and rescale them so that the above constraints are satisfied.\n",
    "\n",
    "\n",
    "Meanwhile, how big should $\\epsilon^d$ be? We want the $\\mathcal{R}^2$ of $Y$, wrt the model $MX$, to be predetermined. For a fixed value of (within day) $\\mathcal{R}^2$, we get\n",
    "\n",
    "$$ 1 - \\mathcal{R}^2 = \\frac{Var(\\epsilon)}{Var(MX) + Var(\\epsilon)} $$\n",
    "\n",
    "\n",
    "$$  Var(\\epsilon) = \\frac{1-\\mathcal{R}^2}{\\mathcal{R}^2} Var(MX). $$\n",
    "\n",
    "\n",
    "\n",
    "We then generate a new $\\epsilon$, which is gaussian noise, but normalised so the $R^2$ between $Y$ and $RX$ is fixed (by the constant r2 below)."
   ]
  },
  {
   "cell_type": "code",
   "execution_count": 1,
   "metadata": {},
   "outputs": [],
   "source": [
    "include(\"concatenated_decoder_numerics.jl\")\n",
    "using Plots\n",
    "\n",
    "const within_day_R2 = 0.73\n",
    "const between_day_R2 = 0.6\n",
    "const num_data_per_day = 5000\n",
    "const num_regressors = 60\n",
    ";"
   ]
  },
  {
   "cell_type": "markdown",
   "metadata": {},
   "source": [
    "We package up the above variables into a struct:"
   ]
  },
  {
   "cell_type": "code",
   "execution_count": 2,
   "metadata": {},
   "outputs": [
    {
     "data": {
      "text/plain": [
       "generalInfo(\"unnamed\", 5000, 60, 0.73, 0.6, nothing)"
      ]
     },
     "execution_count": 2,
     "metadata": {},
     "output_type": "execute_result"
    }
   ],
   "source": [
    "inf = generalInfo(num_data_per_day, num_regressors, within_day_R2, between_day_R2)"
   ]
  },
  {
   "cell_type": "markdown",
   "metadata": {},
   "source": [
    "Now we can initalise a day. This is is initialised with the dimensions and r2 provided in inf."
   ]
  },
  {
   "cell_type": "code",
   "execution_count": 3,
   "metadata": {},
   "outputs": [
    {
     "name": "stdout",
     "output_type": "stream",
     "text": [
      "(:M, :X, :Y)\n"
     ]
    }
   ],
   "source": [
    "d1 = initialise_day(inf)\n",
    "println(fieldnames(typeof(d1)))"
   ]
  },
  {
   "cell_type": "markdown",
   "metadata": {},
   "source": [
    "$R$ is the vector of 'true' regressor coefficients. $Y$ is generated such that it has the R2 demanded by inf."
   ]
  },
  {
   "cell_type": "code",
   "execution_count": 4,
   "metadata": {},
   "outputs": [
    {
     "data": {
      "image/svg+xml": [
       "<?xml version=\"1.0\" encoding=\"utf-8\"?>\n",
       "<svg xmlns=\"http://www.w3.org/2000/svg\" xmlns:xlink=\"http://www.w3.org/1999/xlink\" width=\"600\" height=\"400\" viewBox=\"0 0 2400 1600\">\n",
       "<defs>\n",
       "  <clipPath id=\"clip5100\">\n",
       "    <rect x=\"0\" y=\"0\" width=\"2400\" height=\"1600\"/>\n",
       "  </clipPath>\n",
       "</defs>\n",
       "<path clip-path=\"url(#clip5100)\" d=\"\n",
       "M0 1600 L2400 1600 L2400 0 L0 0  Z\n",
       "  \" fill=\"#ffffff\" fill-rule=\"evenodd\" fill-opacity=\"1\"/>\n",
       "<defs>\n",
       "  <clipPath id=\"clip5101\">\n",
       "    <rect x=\"480\" y=\"0\" width=\"1681\" height=\"1600\"/>\n",
       "  </clipPath>\n",
       "</defs>\n",
       "<path clip-path=\"url(#clip5100)\" d=\"\n",
       "M242.516 1425.62 L2352.76 1425.62 L2352.76 47.2441 L242.516 47.2441  Z\n",
       "  \" fill=\"#ffffff\" fill-rule=\"evenodd\" fill-opacity=\"1\"/>\n",
       "<defs>\n",
       "  <clipPath id=\"clip5102\">\n",
       "    <rect x=\"242\" y=\"47\" width=\"2111\" height=\"1379\"/>\n",
       "  </clipPath>\n",
       "</defs>\n",
       "<polyline clip-path=\"url(#clip5102)\" style=\"stroke:#000000; stroke-width:2; stroke-opacity:0.1; fill:none\" points=\"\n",
       "  444.44,1425.62 444.44,47.2441 \n",
       "  \"/>\n",
       "<polyline clip-path=\"url(#clip5102)\" style=\"stroke:#000000; stroke-width:2; stroke-opacity:0.1; fill:none\" points=\"\n",
       "  728.838,1425.62 728.838,47.2441 \n",
       "  \"/>\n",
       "<polyline clip-path=\"url(#clip5102)\" style=\"stroke:#000000; stroke-width:2; stroke-opacity:0.1; fill:none\" points=\"\n",
       "  1013.24,1425.62 1013.24,47.2441 \n",
       "  \"/>\n",
       "<polyline clip-path=\"url(#clip5102)\" style=\"stroke:#000000; stroke-width:2; stroke-opacity:0.1; fill:none\" points=\"\n",
       "  1297.64,1425.62 1297.64,47.2441 \n",
       "  \"/>\n",
       "<polyline clip-path=\"url(#clip5102)\" style=\"stroke:#000000; stroke-width:2; stroke-opacity:0.1; fill:none\" points=\"\n",
       "  1582.04,1425.62 1582.04,47.2441 \n",
       "  \"/>\n",
       "<polyline clip-path=\"url(#clip5102)\" style=\"stroke:#000000; stroke-width:2; stroke-opacity:0.1; fill:none\" points=\"\n",
       "  1866.43,1425.62 1866.43,47.2441 \n",
       "  \"/>\n",
       "<polyline clip-path=\"url(#clip5102)\" style=\"stroke:#000000; stroke-width:2; stroke-opacity:0.1; fill:none\" points=\"\n",
       "  2150.83,1425.62 2150.83,47.2441 \n",
       "  \"/>\n",
       "<polyline clip-path=\"url(#clip5102)\" style=\"stroke:#000000; stroke-width:2; stroke-opacity:0.1; fill:none\" points=\"\n",
       "  242.516,1371.19 2352.76,1371.19 \n",
       "  \"/>\n",
       "<polyline clip-path=\"url(#clip5102)\" style=\"stroke:#000000; stroke-width:2; stroke-opacity:0.1; fill:none\" points=\"\n",
       "  242.516,1103.21 2352.76,1103.21 \n",
       "  \"/>\n",
       "<polyline clip-path=\"url(#clip5102)\" style=\"stroke:#000000; stroke-width:2; stroke-opacity:0.1; fill:none\" points=\"\n",
       "  242.516,835.239 2352.76,835.239 \n",
       "  \"/>\n",
       "<polyline clip-path=\"url(#clip5102)\" style=\"stroke:#000000; stroke-width:2; stroke-opacity:0.1; fill:none\" points=\"\n",
       "  242.516,567.266 2352.76,567.266 \n",
       "  \"/>\n",
       "<polyline clip-path=\"url(#clip5102)\" style=\"stroke:#000000; stroke-width:2; stroke-opacity:0.1; fill:none\" points=\"\n",
       "  242.516,299.293 2352.76,299.293 \n",
       "  \"/>\n",
       "<polyline clip-path=\"url(#clip5100)\" style=\"stroke:#000000; stroke-width:4; stroke-opacity:1; fill:none\" points=\"\n",
       "  242.516,1425.62 2352.76,1425.62 \n",
       "  \"/>\n",
       "<polyline clip-path=\"url(#clip5100)\" style=\"stroke:#000000; stroke-width:4; stroke-opacity:1; fill:none\" points=\"\n",
       "  242.516,1425.62 242.516,47.2441 \n",
       "  \"/>\n",
       "<polyline clip-path=\"url(#clip5100)\" style=\"stroke:#000000; stroke-width:4; stroke-opacity:1; fill:none\" points=\"\n",
       "  444.44,1425.62 444.44,1409.08 \n",
       "  \"/>\n",
       "<polyline clip-path=\"url(#clip5100)\" style=\"stroke:#000000; stroke-width:4; stroke-opacity:1; fill:none\" points=\"\n",
       "  728.838,1425.62 728.838,1409.08 \n",
       "  \"/>\n",
       "<polyline clip-path=\"url(#clip5100)\" style=\"stroke:#000000; stroke-width:4; stroke-opacity:1; fill:none\" points=\"\n",
       "  1013.24,1425.62 1013.24,1409.08 \n",
       "  \"/>\n",
       "<polyline clip-path=\"url(#clip5100)\" style=\"stroke:#000000; stroke-width:4; stroke-opacity:1; fill:none\" points=\"\n",
       "  1297.64,1425.62 1297.64,1409.08 \n",
       "  \"/>\n",
       "<polyline clip-path=\"url(#clip5100)\" style=\"stroke:#000000; stroke-width:4; stroke-opacity:1; fill:none\" points=\"\n",
       "  1582.04,1425.62 1582.04,1409.08 \n",
       "  \"/>\n",
       "<polyline clip-path=\"url(#clip5100)\" style=\"stroke:#000000; stroke-width:4; stroke-opacity:1; fill:none\" points=\"\n",
       "  1866.43,1425.62 1866.43,1409.08 \n",
       "  \"/>\n",
       "<polyline clip-path=\"url(#clip5100)\" style=\"stroke:#000000; stroke-width:4; stroke-opacity:1; fill:none\" points=\"\n",
       "  2150.83,1425.62 2150.83,1409.08 \n",
       "  \"/>\n",
       "<polyline clip-path=\"url(#clip5100)\" style=\"stroke:#000000; stroke-width:4; stroke-opacity:1; fill:none\" points=\"\n",
       "  242.516,1371.19 267.839,1371.19 \n",
       "  \"/>\n",
       "<polyline clip-path=\"url(#clip5100)\" style=\"stroke:#000000; stroke-width:4; stroke-opacity:1; fill:none\" points=\"\n",
       "  242.516,1103.21 267.839,1103.21 \n",
       "  \"/>\n",
       "<polyline clip-path=\"url(#clip5100)\" style=\"stroke:#000000; stroke-width:4; stroke-opacity:1; fill:none\" points=\"\n",
       "  242.516,835.239 267.839,835.239 \n",
       "  \"/>\n",
       "<polyline clip-path=\"url(#clip5100)\" style=\"stroke:#000000; stroke-width:4; stroke-opacity:1; fill:none\" points=\"\n",
       "  242.516,567.266 267.839,567.266 \n",
       "  \"/>\n",
       "<polyline clip-path=\"url(#clip5100)\" style=\"stroke:#000000; stroke-width:4; stroke-opacity:1; fill:none\" points=\"\n",
       "  242.516,299.293 267.839,299.293 \n",
       "  \"/>\n",
       "<g clip-path=\"url(#clip5100)\">\n",
       "<text style=\"fill:#000000; fill-opacity:1; font-family:Arial,Helvetica Neue,Helvetica,sans-serif; font-size:48px; text-anchor:middle;\" transform=\"rotate(0, 444.44, 1479.62)\" x=\"444.44\" y=\"1479.62\">2</text>\n",
       "</g>\n",
       "<g clip-path=\"url(#clip5100)\">\n",
       "<text style=\"fill:#000000; fill-opacity:1; font-family:Arial,Helvetica Neue,Helvetica,sans-serif; font-size:48px; text-anchor:middle;\" transform=\"rotate(0, 728.838, 1479.62)\" x=\"728.838\" y=\"1479.62\">4</text>\n",
       "</g>\n",
       "<g clip-path=\"url(#clip5100)\">\n",
       "<text style=\"fill:#000000; fill-opacity:1; font-family:Arial,Helvetica Neue,Helvetica,sans-serif; font-size:48px; text-anchor:middle;\" transform=\"rotate(0, 1013.24, 1479.62)\" x=\"1013.24\" y=\"1479.62\">6</text>\n",
       "</g>\n",
       "<g clip-path=\"url(#clip5100)\">\n",
       "<text style=\"fill:#000000; fill-opacity:1; font-family:Arial,Helvetica Neue,Helvetica,sans-serif; font-size:48px; text-anchor:middle;\" transform=\"rotate(0, 1297.64, 1479.62)\" x=\"1297.64\" y=\"1479.62\">8</text>\n",
       "</g>\n",
       "<g clip-path=\"url(#clip5100)\">\n",
       "<text style=\"fill:#000000; fill-opacity:1; font-family:Arial,Helvetica Neue,Helvetica,sans-serif; font-size:48px; text-anchor:middle;\" transform=\"rotate(0, 1582.04, 1479.62)\" x=\"1582.04\" y=\"1479.62\">10</text>\n",
       "</g>\n",
       "<g clip-path=\"url(#clip5100)\">\n",
       "<text style=\"fill:#000000; fill-opacity:1; font-family:Arial,Helvetica Neue,Helvetica,sans-serif; font-size:48px; text-anchor:middle;\" transform=\"rotate(0, 1866.43, 1479.62)\" x=\"1866.43\" y=\"1479.62\">12</text>\n",
       "</g>\n",
       "<g clip-path=\"url(#clip5100)\">\n",
       "<text style=\"fill:#000000; fill-opacity:1; font-family:Arial,Helvetica Neue,Helvetica,sans-serif; font-size:48px; text-anchor:middle;\" transform=\"rotate(0, 2150.83, 1479.62)\" x=\"2150.83\" y=\"1479.62\">14</text>\n",
       "</g>\n",
       "<g clip-path=\"url(#clip5100)\">\n",
       "<text style=\"fill:#000000; fill-opacity:1; font-family:Arial,Helvetica Neue,Helvetica,sans-serif; font-size:48px; text-anchor:end;\" transform=\"rotate(0, 218.516, 1388.69)\" x=\"218.516\" y=\"1388.69\">0.50</text>\n",
       "</g>\n",
       "<g clip-path=\"url(#clip5100)\">\n",
       "<text style=\"fill:#000000; fill-opacity:1; font-family:Arial,Helvetica Neue,Helvetica,sans-serif; font-size:48px; text-anchor:end;\" transform=\"rotate(0, 218.516, 1120.71)\" x=\"218.516\" y=\"1120.71\">0.55</text>\n",
       "</g>\n",
       "<g clip-path=\"url(#clip5100)\">\n",
       "<text style=\"fill:#000000; fill-opacity:1; font-family:Arial,Helvetica Neue,Helvetica,sans-serif; font-size:48px; text-anchor:end;\" transform=\"rotate(0, 218.516, 852.739)\" x=\"218.516\" y=\"852.739\">0.60</text>\n",
       "</g>\n",
       "<g clip-path=\"url(#clip5100)\">\n",
       "<text style=\"fill:#000000; fill-opacity:1; font-family:Arial,Helvetica Neue,Helvetica,sans-serif; font-size:48px; text-anchor:end;\" transform=\"rotate(0, 218.516, 584.766)\" x=\"218.516\" y=\"584.766\">0.65</text>\n",
       "</g>\n",
       "<g clip-path=\"url(#clip5100)\">\n",
       "<text style=\"fill:#000000; fill-opacity:1; font-family:Arial,Helvetica Neue,Helvetica,sans-serif; font-size:48px; text-anchor:end;\" transform=\"rotate(0, 218.516, 316.793)\" x=\"218.516\" y=\"316.793\">0.70</text>\n",
       "</g>\n",
       "<g clip-path=\"url(#clip5100)\">\n",
       "<text style=\"fill:#000000; fill-opacity:1; font-family:Arial,Helvetica Neue,Helvetica,sans-serif; font-size:66px; text-anchor:middle;\" transform=\"rotate(0, 1297.64, 1559.48)\" x=\"1297.64\" y=\"1559.48\">days</text>\n",
       "</g>\n",
       "<g clip-path=\"url(#clip5100)\">\n",
       "<text style=\"fill:#000000; fill-opacity:1; font-family:Arial,Helvetica Neue,Helvetica,sans-serif; font-size:66px; text-anchor:middle;\" transform=\"rotate(-90, 89.2861, 736.431)\" x=\"89.2861\" y=\"736.431\">R^2</text>\n",
       "</g>\n",
       "<polyline clip-path=\"url(#clip5102)\" style=\"stroke:#009af9; stroke-width:4; stroke-opacity:1; fill:none\" points=\"\n",
       "  302.24,120.805 444.44,314.878 586.639,429.172 728.838,523.193 871.038,628.096 1013.24,733.036 1155.44,831.942 1297.64,932.564 1439.84,1007.67 1582.04,1054.41 \n",
       "  1724.23,1123.97 1866.43,1174.45 2008.63,1239.35 2150.83,1307.52 2293.03,1386.61 \n",
       "  \"/>\n",
       "<polyline clip-path=\"url(#clip5102)\" style=\"stroke:#e26f46; stroke-width:4; stroke-opacity:1; fill:none\" points=\"\n",
       "  302.24,120.805 444.44,143.91 586.639,90.9991 728.838,98.0827 871.038,119.089 1013.24,95.8747 1155.44,86.2547 1297.64,131.896 1439.84,101.895 1582.04,124.975 \n",
       "  1724.23,98.2717 1866.43,146.586 2008.63,120.007 2150.83,107.455 2293.03,131.699 \n",
       "  \"/>\n",
       "<polyline clip-path=\"url(#clip5102)\" style=\"stroke:#3da44d; stroke-width:4; stroke-opacity:1; fill:none\" points=\"\n",
       "  302.24,126.335 444.44,168.678 586.639,98.8876 728.838,127.327 871.038,144.726 1013.24,131.662 1155.44,102.039 1297.64,132.397 1439.84,115.682 1582.04,139.018 \n",
       "  1724.23,107.627 1866.43,165.662 2008.63,138.264 2150.83,126.764 2293.03,151.252 \n",
       "  \"/>\n",
       "<path clip-path=\"url(#clip5100)\" d=\"\n",
       "M1173.87 372.684 L2280.76 372.684 L2280.76 130.764 L1173.87 130.764  Z\n",
       "  \" fill=\"#ffffff\" fill-rule=\"evenodd\" fill-opacity=\"1\"/>\n",
       "<polyline clip-path=\"url(#clip5100)\" style=\"stroke:#000000; stroke-width:4; stroke-opacity:1; fill:none\" points=\"\n",
       "  1173.87,372.684 2280.76,372.684 2280.76,130.764 1173.87,130.764 1173.87,372.684 \n",
       "  \"/>\n",
       "<polyline clip-path=\"url(#clip5100)\" style=\"stroke:#009af9; stroke-width:4; stroke-opacity:1; fill:none\" points=\"\n",
       "  1197.87,191.244 1341.87,191.244 \n",
       "  \"/>\n",
       "<g clip-path=\"url(#clip5100)\">\n",
       "<text style=\"fill:#000000; fill-opacity:1; font-family:Arial,Helvetica Neue,Helvetica,sans-serif; font-size:48px; text-anchor:start;\" transform=\"rotate(0, 1365.87, 208.744)\" x=\"1365.87\" y=\"208.744\">R2 of concatenated decoder for days 1:x</text>\n",
       "</g>\n",
       "<polyline clip-path=\"url(#clip5100)\" style=\"stroke:#e26f46; stroke-width:4; stroke-opacity:1; fill:none\" points=\"\n",
       "  1197.87,251.724 1341.87,251.724 \n",
       "  \"/>\n",
       "<g clip-path=\"url(#clip5100)\">\n",
       "<text style=\"fill:#000000; fill-opacity:1; font-family:Arial,Helvetica Neue,Helvetica,sans-serif; font-size:48px; text-anchor:start;\" transform=\"rotate(0, 1365.87, 269.224)\" x=\"1365.87\" y=\"269.224\">R2 of estimated decoder on day x</text>\n",
       "</g>\n",
       "<polyline clip-path=\"url(#clip5100)\" style=\"stroke:#3da44d; stroke-width:4; stroke-opacity:1; fill:none\" points=\"\n",
       "  1197.87,312.204 1341.87,312.204 \n",
       "  \"/>\n",
       "<g clip-path=\"url(#clip5100)\">\n",
       "<text style=\"fill:#000000; fill-opacity:1; font-family:Arial,Helvetica Neue,Helvetica,sans-serif; font-size:48px; text-anchor:start;\" transform=\"rotate(0, 1365.87, 329.704)\" x=\"1365.87\" y=\"329.704\">R2 of generative decoder on day x</text>\n",
       "</g>\n",
       "</svg>\n"
      ]
     },
     "execution_count": 4,
     "metadata": {},
     "output_type": "execute_result"
    }
   ],
   "source": [
    "const number_of_days = 15\n",
    "days = Array{dailyStore,1}(undef, number_of_days)\n",
    "days = fill_days!(days, inf, d1);\n",
    "\n",
    "concatenated_R2_vec = concat_R2_over_days(days)\n",
    "est_R2_per_day = get_est_R2.(days)\n",
    "true_R2_per_day = get_true_R2.(days)\n",
    "\n",
    "p = plot(concatenated_R2_vec; label=\"R2 of concatenated decoder for days 1:x\", ylabel=\"R^2\", xlabel=\"days\")\n",
    "plot!(est_R2_per_day; label=\"R2 of estimated decoder on day x\")\n",
    "plot!(true_R2_per_day; label=\"R2 of generative decoder on day x\")"
   ]
  },
  {
   "cell_type": "markdown",
   "metadata": {},
   "source": [
    " Note that the estimated decoder works better than the true decoder often: there is so much redundancy in the space of decoders that the estimated decoder can overfit the noise $\\epsilon$"
   ]
  },
  {
   "cell_type": "code",
   "execution_count": 5,
   "metadata": {},
   "outputs": [
    {
     "ename": "ErrorException",
     "evalue": "type dailyStore has no field R",
     "output_type": "error",
     "traceback": [
      "type dailyStore has no field R",
      "",
      "Stacktrace:",
      " [1] getproperty(::dailyStore, ::Symbol) at ./Base.jl:20",
      " [2] (::var\"#9#10\")(::dailyStore) at ./none:0",
      " [3] iterate at ./generator.jl:47 [inlined]",
      " [4] collect(::Base.Generator{Array{dailyStore,1},var\"#9#10\"}) at ./array.jl:622",
      " [5] top-level scope at In[5]:2"
     ]
    }
   ],
   "source": [
    "y_changes = [norm(el.Y - elp.Y) for (elp,el) in zip(days[1:end-1], days[2:end])]\n",
    "r_norm_changes = [norm(el.R) for el in days]\n",
    "\n",
    "q = plot(y_changes, label = \"norm of change in Y per day\")\n",
    "plot!(r_norm_changes, label = \"norm of R\")"
   ]
  },
  {
   "cell_type": "code",
   "execution_count": 6,
   "metadata": {},
   "outputs": [],
   "source": [
    "\n",
    "savefig(p, \"concat_deg.pdf\")"
   ]
  },
  {
   "cell_type": "code",
   "execution_count": 7,
   "metadata": {},
   "outputs": [
    {
     "data": {
      "text/plain": [
       "15-element Array{Float64,1}:\n",
       " 1.0               \n",
       " 0.9506188703936549\n",
       " 0.92153731077341  \n",
       " 0.8976140162473304\n",
       " 0.8709220163070269\n",
       " 0.8442204398310118\n",
       " 0.8190541896346998\n",
       " 0.7934512177759299\n",
       " 0.774340657371206 \n",
       " 0.7624474128594948\n",
       " 0.7447477434571697\n",
       " 0.7319049347146348\n",
       " 0.7153917799364694\n",
       " 0.6980444885799868\n",
       " 0.6779217080831014"
      ]
     },
     "execution_count": 7,
     "metadata": {},
     "output_type": "execute_result"
    }
   ],
   "source": [
    "concatenated_R2_vec/concatenated_R2_vec[1]"
   ]
  },
  {
   "cell_type": "code",
   "execution_count": null,
   "metadata": {},
   "outputs": [],
   "source": []
  }
 ],
 "metadata": {
  "@webio": {
   "lastCommId": null,
   "lastKernelId": null
  },
  "kernelspec": {
   "display_name": "Julia 1.3.1",
   "language": "julia",
   "name": "julia-1.3"
  },
  "language_info": {
   "file_extension": ".jl",
   "mimetype": "application/julia",
   "name": "julia",
   "version": "1.3.1"
  }
 },
 "nbformat": 4,
 "nbformat_minor": 2
}