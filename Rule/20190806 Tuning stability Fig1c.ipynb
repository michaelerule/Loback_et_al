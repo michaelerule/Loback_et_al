{
 "cells": [
  {
   "cell_type": "markdown",
   "metadata": {},
   "source": [
    "# Tuning curve changes for Figure 1c in Loback et al."
   ]
  },
  {
   "cell_type": "markdown",
   "metadata": {},
   "source": [
    "##### From driscoll et al\n",
    "\n",
    "Dynamic Reorganization of Neuronal Activity Patterns in Parietal Cortex \n",
    "\n",
    "Laura N. Driscoll, Noah L. Pettit, Matthias Minderer, Selmaan N. Chettih, Christopher D. Harve\n",
    "\n",
    "*The changes across time resulted from cells with a peak of activity on one day either losing that peak or having a shift in the peak’s location on subsequent days, both of which increased in likelihood with time from when a peak was identified. The loss of peaks of activity was offset by an approximately constant rate at which cells initially lacking a peak of activity gained an activity peak, resulting in a consistent fraction of active cells with activity peaks on each day. Together, these results indicate that activity patterns changed over time, with major reorganization occurring over several weeks.*"
   ]
  },
  {
   "cell_type": "markdown",
   "metadata": {},
   "source": [
    "### Prepare workspace"
   ]
  },
  {
   "cell_type": "code",
   "execution_count": null,
   "metadata": {
    "hide_input": false
   },
   "outputs": [],
   "source": [
    "%load_ext autoreload\n",
    "%autoreload 2\n",
    "%matplotlib inline\n",
    "\n",
    "# Add local scripts to path\n",
    "import os,sys\n",
    "sys.path.insert(0,os.path.abspath(\"./\"))\n",
    "\n",
    "# Change path to match location of PPC datasets\n",
    "# Datasets are available from the Harvey lab\n",
    "import ppc_data_loader\n",
    "ppc_data_loader.path = '/home/mrule/Workspace2/PPC_data/'\n",
    "\n",
    "# Import PPC libraries\n",
    "from ppc_data_loader   import *\n",
    "from ppc_trial         import *"
   ]
  },
  {
   "cell_type": "markdown",
   "metadata": {},
   "source": [
    "(In some versions of Jupyter, we need to configure Matplotlib in a separate cell.)"
   ]
  },
  {
   "cell_type": "code",
   "execution_count": null,
   "metadata": {
    "hide_input": false
   },
   "outputs": [],
   "source": [
    "%matplotlib inline\n",
    "\n",
    "from cycler import cycler\n",
    "matplotlib.rcParams['axes.prop_cycle'] = cycler(color=[BLACK,RUST,TURQUOISE,OCHRE,AZURE])\n",
    "matplotlib.rcParams['figure.dpi']=150\n",
    "figure() # Check that Matplotlib really did load (bug workaround?)\n",
    "\n",
    "print('Matplotlib configured')"
   ]
  },
  {
   "cell_type": "markdown",
   "metadata": {},
   "source": [
    "# Neural tuning curve drift plots\n",
    "\n",
    "This generates the black and white tuning curve drift plots seen in Loback et al. Figure 1C. "
   ]
  },
  {
   "cell_type": "code",
   "execution_count": null,
   "metadata": {
    "hide_input": false
   },
   "outputs": [],
   "source": [
    "def plot_unit_summary_figure(animal,unit,\n",
    "                            TIMERES = 400,\n",
    "                            LOWF    = 0.03,\n",
    "                            HIGHF   = 0.3\n",
    "                             ):\n",
    "    \n",
    "    sessions    = array(get_session_ids(animal))\n",
    "    valid       = array([good_units(animal,s) for s in sessions])\n",
    "    ok_sessions = sessions[find(valid[:,unit])]\n",
    "    FS          = get_FS(animal,sessions[0])\n",
    "    \n",
    "    Y = [get_smoothed_dFF(animal,s,unit,LOWF,HIGHF) for s in ok_sessions]\n",
    "    Z = [align_trials(animal,[s],array([[y]]),\n",
    "                      PSTIMERES=TIMERES)[0][...,0] for (s,y) in zip(ok_sessions,Y)]\n",
    "    \n",
    "    figure(figsize=(2.125,2.125))\n",
    "    maxsession = max(ok_sessions)\n",
    "    minsession = min(ok_sessions)\n",
    "    srange     = maxsession-minsession+1\n",
    "    NSESSIONS  = len(ok_sessions)\n",
    "    \n",
    "    # Normalized average of location-triggered activity\n",
    "    # (x-<x>)/<x> = x/<x>-1 ≃ log(x/<x>) = log(x)-log(<x>)\n",
    "    tuning = {}\n",
    "    for i,(session,z) in enumerate(zip(ok_sessions,Z)):\n",
    "        tuning[session] = slog(maximum(1,bandpass_filter(exp(mean(z[:,:],axis=0)),fb=10,Fs=TIMERES)))\n",
    "    \n",
    "    imagegrid = zeros((srange,TIMERES))\n",
    "    smap      = zeros(srange)\n",
    "    \n",
    "    for i,s in enumerate(arange(minsession,maxsession+1)):\n",
    "        # If a session is missing, use nearest available sessions\n",
    "        nearest = ok_sessions[argmin(abs(s-ok_sessions))]\n",
    "        imagegrid[i,:] = tuning[nearest]\n",
    "        smap[i] = nearest\n",
    "    \n",
    "    vmin = 0\n",
    "    vmax = int(ceil(10*np.percentile(imagegrid.ravel(),99.9)))/10\n",
    "    imshow(imagegrid,\n",
    "           vmin=vmin,\n",
    "           vmax=vmax,\n",
    "           aspect='auto',\n",
    "           cmap='bone_r',\n",
    "           origin='lower')\n",
    "    noxyaxes()\n",
    "    \n",
    "    tics = [mean(find(smap==i)) for i in ok_sessions]\n",
    "    yticks(tics,['%s'%minsession]+['']*(NSESSIONS-2)+['%s'%maxsession])\n",
    "    xticks(xlim(),['0%','100%'])\n",
    "    force_aspect()\n",
    "    ylabel('Day #')\n",
    "    xlabel('Task location')\n",
    "    fudgey()\n",
    "    fudgex()\n",
    "    title('Subject %d Neuron %d'%(unit,animal),fontsize=10)\n",
    "    ax = good_colorbar(vmin,vmax,'bone_r','Mean log-rate\\n(normalized)',fontsize=9)\n",
    "print('`plot_unit_summary_figure` function defined')"
   ]
  },
  {
   "cell_type": "markdown",
   "metadata": {},
   "source": [
    "## Select neurons\n",
    "\n",
    "Some examples for drift, stability, and more bizzare behavior"
   ]
  },
  {
   "cell_type": "code",
   "execution_count": null,
   "metadata": {},
   "outputs": [],
   "source": [
    "toplot={\n",
    "    'Advancing':[(3,347),(3,1299),(4,124),(4,134),(4,475),(4,496)],\n",
    "    'Noisy'    :[(1,13),(3,337)],\n",
    "    'Other'    :[(1,1115),(3,418),(3,460),(3,954),(3,978)],\n",
    "    'Relocate' :[(3,19),(4,3),(4,473)],\n",
    "    'Stable'   :[(1,1263),(3,469),(3,522),(3,1191),(4,138),(4,155),(5,499)]\n",
    "}"
   ]
  },
  {
   "cell_type": "code",
   "execution_count": null,
   "metadata": {
    "hide_input": false,
    "scrolled": false
   },
   "outputs": [],
   "source": [
    "for category,pairs in toplot.items():\n",
    "    for animal,unit in pairs:\n",
    "        print(category,animal,unit)\n",
    "        fn = 'unit_drift_summary_subject_%02d_unit_%d'%(animal,unit)\n",
    "        if not fn in os.listdir('.'):\n",
    "            plot_unit_summary_figure(animal,unit)\n",
    "            savefigure(fn)\n",
    "            release_files(clear_cache=True)\n"
   ]
  }
 ],
 "metadata": {
  "kernelspec": {
   "display_name": "Python 3",
   "language": "python",
   "name": "python3"
  },
  "language_info": {
   "codemirror_mode": {
    "name": "ipython",
    "version": 3
   },
   "file_extension": ".py",
   "mimetype": "text/x-python",
   "name": "python",
   "nbconvert_exporter": "python",
   "pygments_lexer": "ipython3",
   "version": "3.7.3"
  },
  "varInspector": {
   "cols": {
    "lenName": 16,
    "lenType": 16,
    "lenVar": 40
   },
   "kernels_config": {
    "python": {
     "delete_cmd_postfix": "",
     "delete_cmd_prefix": "del ",
     "library": "var_list.py",
     "varRefreshCmd": "print(var_dic_list())"
    },
    "r": {
     "delete_cmd_postfix": ") ",
     "delete_cmd_prefix": "rm(",
     "library": "var_list.r",
     "varRefreshCmd": "cat(var_dic_list()) "
    }
   },
   "types_to_exclude": [
    "module",
    "function",
    "builtin_function_or_method",
    "instance",
    "_Feature"
   ],
   "window_display": false
  }
 },
 "nbformat": 4,
 "nbformat_minor": 2
}
